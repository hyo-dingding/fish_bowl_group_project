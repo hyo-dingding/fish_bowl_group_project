{
 "cells": [
  {
   "cell_type": "code",
   "execution_count": 2,
   "metadata": {},
   "outputs": [
    {
     "name": "stdout",
     "output_type": "stream",
     "text": [
      "{'values': [{'self': 'https://eastus.api.cognitive.microsoft.com/speechtotext/v3.1/transcriptions/5b12beaf-88ea-4e16-835a-e9f2353bca5e', 'model': {'self': 'https://eastus.api.cognitive.microsoft.com/speechtotext/v3.1/models/base/5b9a1565-cbfc-4e89-8033-785f00d20cde'}, 'links': {'files': 'https://eastus.api.cognitive.microsoft.com/speechtotext/v3.1/transcriptions/5b12beaf-88ea-4e16-835a-e9f2353bca5e/files'}, 'properties': {'diarizationEnabled': False, 'wordLevelTimestampsEnabled': False, 'displayFormWordLevelTimestampsEnabled': True, 'channels': [0, 1], 'punctuationMode': 'Dictated', 'profanityFilterMode': 'Masked', 'duration': 'PT1M5S'}, 'lastActionDateTime': '2024-08-21T10:18:40Z', 'status': 'Succeeded', 'createdDateTime': '2024-08-21T10:18:19Z', 'locale': 'en-US', 'displayName': '20240821_191815', 'description': 'Speech Studio Batch speech to text', 'customProperties': {'PortalAPIVersion': '3'}}, {'self': 'https://eastus.api.cognitive.microsoft.com/speechtotext/v3.1/transcriptions/4519f774-fb3d-4eef-9f96-ed8e23b6d1f1', 'model': {'self': 'https://eastus.api.cognitive.microsoft.com/speechtotext/v3.1/models/base/5b9a1565-cbfc-4e89-8033-785f00d20cde'}, 'links': {'files': 'https://eastus.api.cognitive.microsoft.com/speechtotext/v3.1/transcriptions/4519f774-fb3d-4eef-9f96-ed8e23b6d1f1/files'}, 'properties': {'diarizationEnabled': False, 'wordLevelTimestampsEnabled': False, 'displayFormWordLevelTimestampsEnabled': True, 'channels': [0, 1], 'punctuationMode': 'Automatic', 'profanityFilterMode': 'Masked', 'duration': 'PT1M5S'}, 'lastActionDateTime': '2024-08-21T10:20:16Z', 'status': 'Succeeded', 'createdDateTime': '2024-08-21T10:19:51Z', 'locale': 'en-US', 'displayName': '20240821_191946', 'description': 'Speech Studio Batch speech to text', 'customProperties': {'PortalAPIVersion': '3'}}, {'self': 'https://eastus.api.cognitive.microsoft.com/speechtotext/v3.1/transcriptions/e613f7d0-2d3e-4a3c-bcac-df23df172277', 'model': {'self': 'https://eastus.api.cognitive.microsoft.com/speechtotext/v3.1/models/base/94a26d58-ef64-4d94-abad-9590ea650761'}, 'links': {'files': 'https://eastus.api.cognitive.microsoft.com/speechtotext/v3.1/transcriptions/e613f7d0-2d3e-4a3c-bcac-df23df172277/files'}, 'properties': {'diarizationEnabled': True, 'wordLevelTimestampsEnabled': True, 'displayFormWordLevelTimestampsEnabled': True, 'channels': [0, 1], 'punctuationMode': 'DictatedAndAutomatic', 'profanityFilterMode': 'None', 'error': {'code': 'InvalidData', 'message': 'The recordings URI contains invalid data.'}, 'diarization': {'speakers': {'minCount': 1, 'maxCount': 2}}}, 'lastActionDateTime': '2024-08-21T10:26:19Z', 'status': 'Failed', 'createdDateTime': '2024-08-21T10:23:44Z', 'locale': 'ko-KR', 'displayName': '20240821_172938', 'description': 'Speech Studio Batch speech to text', 'customProperties': {'PortalAPIVersion': '3'}}, {'self': 'https://eastus.api.cognitive.microsoft.com/speechtotext/v3.1/transcriptions/b11c4e37-26e0-4ae9-8186-37d036616bb3', 'model': {'self': 'https://eastus.api.cognitive.microsoft.com/speechtotext/v3.1/models/base/94a26d58-ef64-4d94-abad-9590ea650761'}, 'links': {'files': 'https://eastus.api.cognitive.microsoft.com/speechtotext/v3.1/transcriptions/b11c4e37-26e0-4ae9-8186-37d036616bb3/files'}, 'properties': {'diarizationEnabled': False, 'wordLevelTimestampsEnabled': False, 'displayFormWordLevelTimestampsEnabled': True, 'channels': [0, 1], 'punctuationMode': 'DictatedAndAutomatic', 'profanityFilterMode': 'Masked', 'duration': 'PT15H26M45S'}, 'lastActionDateTime': '2024-08-21T14:52:31Z', 'status': 'Succeeded', 'createdDateTime': '2024-08-21T14:46:00Z', 'locale': 'ko-KR', 'displayName': '20240821_191423', 'description': 'Speech Studio Batch speech to text', 'customProperties': {'PortalAPIVersion': '3'}}, {'self': 'https://eastus.api.cognitive.microsoft.com/speechtotext/v3.1/transcriptions/26408ec8-b1b2-466d-a04b-427d8cf7665b', 'model': {'self': 'https://eastus.api.cognitive.microsoft.com/speechtotext/v3.1/models/base/94a26d58-ef64-4d94-abad-9590ea650761'}, 'links': {'files': 'https://eastus.api.cognitive.microsoft.com/speechtotext/v3.1/transcriptions/26408ec8-b1b2-466d-a04b-427d8cf7665b/files'}, 'properties': {'diarizationEnabled': False, 'wordLevelTimestampsEnabled': False, 'displayFormWordLevelTimestampsEnabled': True, 'channels': [0, 1], 'punctuationMode': 'DictatedAndAutomatic', 'profanityFilterMode': 'Masked', 'duration': 'PT2H34M28S'}, 'lastActionDateTime': '2024-08-23T10:12:57Z', 'status': 'Succeeded', 'createdDateTime': '2024-08-23T10:08:50Z', 'locale': 'ko-KR', 'displayName': '20240823_190036', 'description': 'Speech Studio Batch speech to text', 'customProperties': {'PortalAPIVersion': '3'}}]}\n"
     ]
    }
   ],
   "source": [
    "import requests\n",
    "import os\n",
    "\n",
    "# Azure API 호출을 위한 설정\n",
    "subscription_key = \"fc46077d8bd240d9a1a0597020a2f8d4\"\n",
    "endpoint = \"https://eastus.api.cognitive.microsoft.com/speechtotext/v3.1/transcriptions\"  # 엔드포인트 주소\n",
    "\n",
    "headers = {\n",
    "    'Ocp-Apim-Subscription-Key': subscription_key\n",
    "}\n",
    "\n",
    "# 각 작업의 결과 가져오기\n",
    "response = requests.get(endpoint, headers=headers)\n",
    "transcriptions = response.json()\n",
    "\n",
    "# 응답 데이터 출력\n",
    "print(transcriptions)"
   ]
  },
  {
   "cell_type": "code",
   "execution_count": null,
   "metadata": {},
   "outputs": [],
   "source": [
    "# 체인 생성 함수\n",
    "def create_chain(retriever, prompt_template):\n",
    "    llm = AzureChatOpenAI(deployment_name=\"gpt-4o\")\n",
    "    \n",
    "    # 텍스트로부터 컨텍스트를 가져오기\n",
    "    context = retriever.retrieve(\"text\")\n",
    "    # context = retriever.get_relevant_documents(\"요약할 내용을 제공해주세요.\")\n",
    "    # result = llm(prompt.format(context=retriever))\n",
    "    # return result\n",
    "    \n",
    "    # 컨텍스트를 기반으로 프롬프트 작성\n",
    "    formatted_prompt = prompt_template.format(question=\"이 문서에서 중요한 내용을 요약해주세요.\", context=context)\n",
    "    print(formatted_prompt) \n",
    "    \n",
    "    # 메시지를 올바른 형식으로 전달\n",
    "    messages = [{\"role\": \"user\", \"content\": formatted_prompt}]\n",
    "    # LLM 모델에 프롬프트 전달하여 결과 받기\n",
    "    result  = llm(formatted_prompt)\n",
    "    # return result['choices'][0]['text']\n",
    "    return result['choices'][0]['message']['content']"
   ]
  }
 ],
 "metadata": {
  "kernelspec": {
   "display_name": "langc",
   "language": "python",
   "name": "python3"
  },
  "language_info": {
   "codemirror_mode": {
    "name": "ipython",
    "version": 3
   },
   "file_extension": ".py",
   "mimetype": "text/x-python",
   "name": "python",
   "nbconvert_exporter": "python",
   "pygments_lexer": "ipython3",
   "version": "3.11.9"
  }
 },
 "nbformat": 4,
 "nbformat_minor": 2
}
