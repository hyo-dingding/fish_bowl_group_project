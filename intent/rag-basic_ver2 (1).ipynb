{
 "cells": [
  {
   "cell_type": "code",
   "execution_count": 1,
   "metadata": {},
   "outputs": [],
   "source": [
    "from dotenv import load_dotenv\n",
    "from langchain_teddynote import logging\n",
    "from langchain_text_splitters import RecursiveCharacterTextSplitter\n",
    "from langchain_community.document_loaders import PyMuPDFLoader\n",
    "from langchain.document_loaders import DirectoryLoader\n",
    "from langchain.document_loaders.csv_loader import CSVLoader\n",
    "from langchain_text_splitters import RecursiveCharacterTextSplitter\n",
    "from langchain_community.vectorstores import FAISS\n",
    "from langchain_core.output_parsers import StrOutputParser\n",
    "from langchain_core.runnables import RunnablePassthrough\n",
    "from langchain_core.prompts import PromptTemplate\n",
    "from langchain_openai import ChatOpenAI, OpenAIEmbeddings, AzureChatOpenAI\n",
    "from langchain_openai import AzureOpenAIEmbeddings\n",
    "from langchain_huggingface import HuggingFaceEmbeddings\n",
    "import openai"
   ]
  },
  {
   "cell_type": "code",
   "execution_count": 2,
   "metadata": {},
   "outputs": [
    {
     "name": "stdout",
     "output_type": "stream",
     "text": [
      "LangSmith 추적을 시작합니다.\n",
      "[프로젝트명]\n",
      "CH12-RAG\n"
     ]
    }
   ],
   "source": [
    "# API 키 정보 로드\n",
    "load_dotenv()\n",
    "\n",
    "# 프로젝트 이름을 입력합니다.\n",
    "logging.langsmith(\"CH12-RAG\")"
   ]
  },
  {
   "cell_type": "code",
   "execution_count": 3,
   "metadata": {},
   "outputs": [],
   "source": [
    "# 단계 1: 문서 로드(Load Documents)\n",
    "\n",
    "loader_csv = DirectoryLoader(\n",
    "     \"../data/대출사기형/csv\",\n",
    "    glob=\"*.csv\",\n",
    "    loader_cls=CSVLoader,loader_kwargs={\"encoding\":\"utf-8\"}\n",
    ")\n",
    "\n",
    "loader_pdf = PyMuPDFLoader(\"(교재)안전한 금융생활을 위한 보이스피싱 대처 방법.pdf\")\n",
    "\n",
    "# loader_pdf = DirectoryLoader(\n",
    "#     \"./(교재)안전한 금융생활을 위한 보이스피싱 대처 방법.pdf\",\n",
    "#     glob=\"*.pdf\",\n",
    "#     loader_cls=PyMuPDFLoader,\n",
    "#     )\n",
    "\n",
    "\n",
    "\n",
    "document_csv = loader_csv.load()\n",
    "document_pdf = loader_pdf.load()"
   ]
  },
  {
   "cell_type": "code",
   "execution_count": 4,
   "metadata": {},
   "outputs": [],
   "source": [
    "#문서 리스트\n",
    "documents = [document_csv, document_pdf]"
   ]
  },
  {
   "cell_type": "code",
   "execution_count": 5,
   "metadata": {},
   "outputs": [
    {
     "name": "stderr",
     "output_type": "stream",
     "text": [
      "c:\\Users\\USER\\anaconda3\\envs\\langc\\Lib\\site-packages\\sentence_transformers\\cross_encoder\\CrossEncoder.py:11: TqdmExperimentalWarning: Using `tqdm.autonotebook.tqdm` in notebook mode. Use `tqdm.tqdm` instead to force console mode (e.g. in jupyter console)\n",
      "  from tqdm.autonotebook import tqdm, trange\n"
     ]
    }
   ],
   "source": [
    "text_splitter = RecursiveCharacterTextSplitter(chunk_size=1000, chunk_overlap=50)\n",
    "embeddings = HuggingFaceEmbeddings(model_name=\"jhgan/ko-sroberta-multitask\")\n",
    "llm = AzureChatOpenAI(deployment_name=\"gpt-4o\",)"
   ]
  },
  {
   "cell_type": "code",
   "execution_count": 6,
   "metadata": {},
   "outputs": [],
   "source": [
    "# 문서 변환\n",
    "def file_to_retriever(doc):\n",
    "    split_documents = text_splitter.split_documents(doc)\n",
    "    vectorstore = FAISS.from_documents(documents=split_documents, embedding=embeddings)\n",
    "    retriever = vectorstore.as_retriever()\n",
    "    return retriever\n",
    "    "
   ]
  },
  {
   "cell_type": "code",
   "execution_count": 7,
   "metadata": {},
   "outputs": [],
   "source": [
    "retriever_csv = file_to_retriever(document_csv)\n",
    "retriever_pdf = file_to_retriever(document_pdf)"
   ]
  },
  {
   "cell_type": "code",
   "execution_count": 8,
   "metadata": {},
   "outputs": [],
   "source": [
    "# 단계 2: 프롬프트 생성(Create Prompt)\n",
    "#prompt : 요약하기(summarization)\n",
    "prompt = PromptTemplate.from_template(\n",
    "    \"\"\"You are an assistant for summarization tasks. \n",
    "following pieces of retrieved context is example of similar context. catch the keyword it to answer the question if exists. \n",
    "summarize the conversation transparently. don't judge anything. \n",
    "Answer in Korean.\n",
    "\n",
    "#Question: \n",
    "{question} \n",
    "#Context: \n",
    "{context} \n",
    "\n",
    "#Answer:\"\"\"\n",
    ")\n",
    "#prompt1: 감지하기(detection)\n",
    "prompt1 = PromptTemplate.from_template(\n",
    "    \"\"\"You are an assistant for fraud detection tasks. \n",
    "Use the following pieces of retrieved context to answer the question. \n",
    "Label and reason message from a user with an intent whether to fraud or not. advertising is not fraud.\n",
    "Answer in Korean.\n",
    "\n",
    "#Question: \n",
    "{question} \n",
    "#Context: \n",
    "{context} \n",
    "\n",
    "#Answer:\"\"\"\n",
    ")\n",
    "#prompt2: 화자 분리(A,B)\n",
    "prompt2 = PromptTemplate.from_template(\n",
    "    \"\"\"You are an assistant for discriminating two speakers using Punctuation mark.  \n",
    " Label the speaker A,B. Answer in Korean. \n",
    "\n",
    "#Question: \n",
    "{question} \n",
    "\n",
    "#Answer:\"\"\"\n",
    ")"
   ]
  },
  {
   "cell_type": "code",
   "execution_count": 9,
   "metadata": {},
   "outputs": [],
   "source": [
    "def create_chain(retriever):\n",
    "    if retriever == retriever_csv:\n",
    "        chain = ({\"context\": retriever, \"question\": RunnablePassthrough()}| prompt| llm| StrOutputParser())\n",
    "    elif retriever == retriever_pdf:\n",
    "        chain = ({\"context\": retriever, \"question\": RunnablePassthrough()}| prompt1| llm| StrOutputParser())\n",
    "    \n",
    "    return chain"
   ]
  },
  {
   "cell_type": "code",
   "execution_count": 10,
   "metadata": {},
   "outputs": [],
   "source": [
    "question = \"\"\"A : 본인 성함 알겟습니다. 제가 첫번째는 이제 본인이 혹시라도 이제 깡통 계좌 발생으로 해서 본인이 금전적인 피해를 보네 보신 게 있는지에 대해서 제가 확인을 해봐야 되겠구요\n",
    "B : 네\n",
    "A : 아 아 그 두번째 같은 경우는 혹시라도 본인이 이 자금을 어 이제 조사를 피하기 위해서 어 다른 계좌로 돈을 바로 이체를 하는 게 아니냐 예를 들어서 깡통 계좌가 발생하더라도 앞으로는 제가 계좌 쪽을 조사를 진행을 해야 되는데 깡통 계좌가 갑자기 이자 발생을 하면 아예 이제 (삐-) 씨가 당황스럽고 피해를 봤다고 생각을 할 거에요. 그냥 저희 입장에서 봤을 때는 혹시 제가 (삐-) 계좌 추적을 피하기 위해서 한번 받고 하면 네 그분한테 계좌 이체를 시도를 한 게 아니냐 그러면 절차가 조금 더 복잡해줄 수 있어요. 계좌 발생하면.\n",
    "B : 네 네\n",
    "A : 아 그래서 깡통 계좌 내용에 대한 거는 이제 실질적으로 제가 설명드렸듯이 이 계좌 잔고가 얼마가 있던 상관 없습니다. 돈이 액수가 필요한게 아니고\n",
    "B : 네 예\n",
    "A : 한번 확인을 해도 출금 시도를 해봐야 진짜로 내가 원하는 만큼 돈이 출금이 되냐를 제가 확인할 수가 있다는 거예요. 출금을 했을때 진짜 본인이 원하는 대로 돈이 나오지 않았을 경우 당사자가 실질적으로 내가 어 이게 깡통 계좌구나하고 그때 좀 더 빼드릴 수가 있다는 겁니다. 아 그쵸 그래서 어 한번 좀 확인해봐야 되는 거는 본인이 직접적으로 이제 농협 은행권에 잠시 뒤 방문을 해줘야 될 것 같은데, 어 이거는 제가 그렇다고 제가 통장을 가지고 제가 가서 뭐 돈을 찾을 수 없잖아요\n",
    "B : 네 그렇죠\n",
    "A : 말이 안 돼 예 말이 안 됐기 때문에 본인이 직접적으로 이동을 해줘 갖고 일단은 뭐 은행권으로 방문을 하는 데 있어서 뭐 번거로움이 있을 거 같애요\n",
    "B : 아니요 내일 방문 하면 될 것 같은데요\n",
    "A : 내일이요?\n",
    "B : 네\n",
    "\n",
    "\"\"\""
   ]
  },
  {
   "cell_type": "code",
   "execution_count": 11,
   "metadata": {},
   "outputs": [],
   "source": [
    "first_chain = create_chain(retriever_csv)\n",
    "second_chain = create_chain(retriever_pdf)"
   ]
  },
  {
   "cell_type": "code",
   "execution_count": 12,
   "metadata": {},
   "outputs": [
    {
     "name": "stderr",
     "output_type": "stream",
     "text": [
      "Failed to batch ingest runs: LangSmithError('Failed to POST https://api.smith.langchain.com/runs/batch in LangSmith API. HTTPError(\\'403 Client Error: Forbidden for url: https://api.smith.langchain.com/runs/batch\\', \\'{\"detail\":\"Forbidden\"}\\')')\n"
     ]
    },
    {
     "name": "stdout",
     "output_type": "stream",
     "text": [
      "#Question:\n",
      "A : 본인 성함 알겟습니다. 제가 첫번째는 이제 본인이 혹시라도 이제 깡통 계좌 발생으로 해서 본인이 금전적인 피해를 보네 보신 게 있는지에 대해서 제가 확인을 해봐야 되겠구요\n",
      "B : 네\n",
      "A : 아 아 그 두번째 같은 경우는 혹시라도 본인이 이 자금을 어 이제 조사를 피하기 위해서 어 다른 계좌로 돈을 바로 이체를 하는 게 아니냐 예를 들어서 깡통 계좌가 발생하더라도 앞으로는 제가 계좌 쪽을 조사를 진행을 해야 되는데 깡통 계좌가 갑자기 이자 발생을 하면 아예 이제 (삐-) 씨가 당황스럽고 피해를 봤다고 생각을 할 거에요. 그냥 저희 입장에서 봤을 때는 혹시 제가 (삐-) 계좌 추적을 피하기 위해서 한번 받고 하면 네 그분한테 계좌 이체를 시도를 한 게 아니냐 그러면 절차가 조금 더 복잡해줄 수 있어요. 계좌 발생하면.\n",
      "B : 네 네\n",
      "A : 아 그래서 깡통 계좌 내용에 대한 거는 이제 실질적으로 제가 설명드렸듯이 이 계좌 잔고가 얼마가 있던 상관 없습니다. 돈이 액수가 필요한게 아니고\n",
      "B : 네 예\n",
      "A : 한번 확인을 해도 출금 시도를 해봐야 진짜로 내가 원하는 만큼 돈이 출금이 되냐를 제가 확인할 수가 있다는 거예요. 출금을 했을때 진짜 본인이 원하는 대로 돈이 나오지 않았을 경우 당사자가 실질적으로 내가 어 이게 깡통 계좌구나하고 그때 좀 더 빼드릴 수가 있다는 겁니다. 아 그쵸 그래서 어 한번 좀 확인해봐야 되는 거는 본인이 직접적으로 이제 농협 은행권에 잠시 뒤 방문을 해줘야 될 것 같은데, 어 이거는 제가 그렇다고 제가 통장을 가지고 제가 가서 뭐 돈을 찾을 수 없잖아요\n",
      "B : 네 그렇죠\n",
      "A : 말이 안 돼 예 말이 안 됐기 때문에 본인이 직접적으로 이동을 해줘 갖고 일단은 뭐 은행권으로 방문을 하는 데 있어서 뭐 번거로움이 있을 거 같애요\n",
      "B : 아니요 내일 방문 하면 될 것 같은데요\n",
      "A : 내일이요?\n",
      "B : 네\n",
      "\n",
      "#Answer:\n",
      "A는 B에게 깡통 계좌 발생으로 인해 금전적인 피해를 본 적이 있는지 확인하고, 자금 조사를 피하기 위해 다른 계좌로 돈을 이체한 적이 있는지 묻는다. A는 깡통 계좌의 잔고와 상관없이 출금 시도를 통해 실제로 돈이 출금되는지 확인해야 한다고 설명하며, B가 직접 농협 은행을 방문해 확인해달라고 요청한다. B는 내일 방문할 수 있다고 답한다.\n"
     ]
    }
   ],
   "source": [
    "summary = first_chain.invoke(question)\n",
    "print(summary)"
   ]
  },
  {
   "cell_type": "code",
   "execution_count": 13,
   "metadata": {},
   "outputs": [
    {
     "name": "stderr",
     "output_type": "stream",
     "text": [
      "Failed to batch ingest runs: LangSmithError('Failed to POST https://api.smith.langchain.com/runs/batch in LangSmith API. HTTPError(\\'403 Client Error: Forbidden for url: https://api.smith.langchain.com/runs/batch\\', \\'{\"detail\":\"Forbidden\"}\\')')\n",
      "Failed to batch ingest runs: LangSmithError('Failed to POST https://api.smith.langchain.com/runs/batch in LangSmith API. HTTPError(\\'403 Client Error: Forbidden for url: https://api.smith.langchain.com/runs/batch\\', \\'{\"detail\":\"Forbidden\"}\\')')\n",
      "Failed to batch ingest runs: LangSmithError('Failed to POST https://api.smith.langchain.com/runs/batch in LangSmith API. HTTPError(\\'403 Client Error: Forbidden for url: https://api.smith.langchain.com/runs/batch\\', \\'{\"detail\":\"Forbidden\"}\\')')\n"
     ]
    },
    {
     "name": "stdout",
     "output_type": "stream",
     "text": [
      "이 대화는 보이스피싱과 관련된 것으로 보이며, 사기 행위에 해당할 가능성이 높습니다. A가 B에게 깡통 계좌와 관련된 금전적인 피해 및 자금 이체 여부를 묻고, 이를 확인하기 위해 B가 직접 은행을 방문해야 한다고 요청하는 내용입니다. 이는 보이스피싱 사기범들이 피해자에게 자금을 이체하도록 유도하거나, 계좌 정보를 확인하게 하는 전형적인 수법과 유사합니다.\n",
      "\n",
      "따라서, 이 메시지는 사기 의도가 있는 것으로 판단됩니다.\n",
      "\n",
      "사기 의도: 있음\n"
     ]
    }
   ],
   "source": [
    "result = second_chain.invoke(summary)\n",
    "print(result)"
   ]
  }
 ],
 "metadata": {
  "kernelspec": {
   "display_name": ".venv",
   "language": "python",
   "name": "python3"
  },
  "language_info": {
   "codemirror_mode": {
    "name": "ipython",
    "version": 3
   },
   "file_extension": ".py",
   "mimetype": "text/x-python",
   "name": "python",
   "nbconvert_exporter": "python",
   "pygments_lexer": "ipython3",
   "version": "3.11.9"
  }
 },
 "nbformat": 4,
 "nbformat_minor": 2
}
